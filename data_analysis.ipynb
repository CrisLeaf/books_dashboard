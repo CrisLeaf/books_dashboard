{
 "cells": [
  {
   "cell_type": "markdown",
   "metadata": {
    "collapsed": true,
    "pycharm": {
     "name": "#%% md\n"
    }
   },
   "source": [
    "# Analysis"
   ]
  },
  {
   "cell_type": "markdown",
   "source": [
    "## Intro"
   ],
   "metadata": {
    "collapsed": false,
    "pycharm": {
     "name": "#%% md\n"
    }
   }
  },
  {
   "cell_type": "code",
   "execution_count": 218,
   "outputs": [],
   "source": [
    "import numpy as np\n",
    "import psycopg2\n",
    "import pandas as pd\n",
    "from web_app.psql_secrets import psql_params"
   ],
   "metadata": {
    "collapsed": false,
    "pycharm": {
     "name": "#%%\n"
    }
   }
  },
  {
   "cell_type": "code",
   "execution_count": 219,
   "outputs": [],
   "source": [
    "conn = psycopg2.connect(**psql_params)\n",
    "curr = conn.cursor()\n",
    "\n",
    "curr.execute(\"SELECT name, author, editorial, price, review, description, five_stars, four_stars, \"\n",
    "\t\t\t \"three_stars, two_stars, one_star, link, website FROM books\")\n",
    "tuples = curr.fetchall()\n",
    "\n",
    "df = pd.DataFrame(tuples, columns=[\"name\", \"author\", \"editorial\", \"price\", \"review\",\n",
    "\t\t\t\t\t\t\t\t   \"description\", \"five_stars\", \"four_stars\", \"three_stars\",\n",
    "\t\t\t\t\t\t\t\t   \"two_stars\", \"one_star\", \"link\", \"website\"])\n",
    "indexes = pd.Series(df.index, index=df[\"link\"])\n",
    "\n",
    "curr.close()\n",
    "conn.close()"
   ],
   "metadata": {
    "collapsed": false,
    "pycharm": {
     "name": "#%%\n"
    }
   }
  },
  {
   "cell_type": "code",
   "execution_count": 220,
   "outputs": [
    {
     "data": {
      "text/plain": "                                           name               author  \\\n0                fleur. mi desesperada decision         ariana godoy   \n1                           nutricion emocional           fran sabal   \n2                  una corte de rosas y espinas        sarah j. maas   \n3                               ojos que no ven  carmen gloria lopez   \n4  casa de tierra y sangre (ciudad medialuna 1)        sarah j. maas   \n\n      editorial  price                                             review  \\\n0       montena  13500  una noche es suficiente para cambiar tu vida, ...   \n1       planeta  10430  ?por que el crecimiento personal es clave a la...   \n2       planeta  13930  quito una vida. ahora tiene que pagar con su p...   \n3  sudamericana  10800  textos hibridos que apuntan a reflexionar sobr...   \n4     alfaguara  15390  unidos por la sangre. tentados por el deseo. l...   \n\n                                         description five_stars four_stars  \\\n0  formatolibro fisico autor ariana godoy editori...   100% (7)     0% (0)   \n1  formatolibro fisico autor fran sabal editorial...   94% (76)     5% (4)   \n2  formatolibro fisico autor sarah j. maas editor...    75% (6)    25% (2)   \n3  formatolibro fisico autor carmen gloria lopez ...     0% (0)     0% (0)   \n4  formatolibro fisico autor sarah j. maas editor...  87% (120)    9% (13)   \n\n  three_stars two_stars one_star  \\\n0      0% (0)    0% (0)   0% (0)   \n1      1% (1)    0% (0)   0% (0)   \n2      0% (0)    0% (0)   0% (0)   \n3      0% (0)    0% (0)   0% (0)   \n4      3% (4)    1% (1)   0% (0)   \n\n                                                link  website  \n0  https://www.buscalibre.cl/libro-fleur-mi-deses...        1  \n1  https://www.buscalibre.cl/libro-nutricion-emoc...        1  \n2  https://www.buscalibre.cl/libro-una-corte-de-r...        1  \n3  https://www.buscalibre.cl/libro-ojos-que-no-ve...        1  \n4  https://www.buscalibre.cl/libro-casa-de-tierra...        1  ",
      "text/html": "<div>\n<style scoped>\n    .dataframe tbody tr th:only-of-type {\n        vertical-align: middle;\n    }\n\n    .dataframe tbody tr th {\n        vertical-align: top;\n    }\n\n    .dataframe thead th {\n        text-align: right;\n    }\n</style>\n<table border=\"1\" class=\"dataframe\">\n  <thead>\n    <tr style=\"text-align: right;\">\n      <th></th>\n      <th>name</th>\n      <th>author</th>\n      <th>editorial</th>\n      <th>price</th>\n      <th>review</th>\n      <th>description</th>\n      <th>five_stars</th>\n      <th>four_stars</th>\n      <th>three_stars</th>\n      <th>two_stars</th>\n      <th>one_star</th>\n      <th>link</th>\n      <th>website</th>\n    </tr>\n  </thead>\n  <tbody>\n    <tr>\n      <th>0</th>\n      <td>fleur. mi desesperada decision</td>\n      <td>ariana godoy</td>\n      <td>montena</td>\n      <td>13500</td>\n      <td>una noche es suficiente para cambiar tu vida, ...</td>\n      <td>formatolibro fisico autor ariana godoy editori...</td>\n      <td>100% (7)</td>\n      <td>0% (0)</td>\n      <td>0% (0)</td>\n      <td>0% (0)</td>\n      <td>0% (0)</td>\n      <td>https://www.buscalibre.cl/libro-fleur-mi-deses...</td>\n      <td>1</td>\n    </tr>\n    <tr>\n      <th>1</th>\n      <td>nutricion emocional</td>\n      <td>fran sabal</td>\n      <td>planeta</td>\n      <td>10430</td>\n      <td>?por que el crecimiento personal es clave a la...</td>\n      <td>formatolibro fisico autor fran sabal editorial...</td>\n      <td>94% (76)</td>\n      <td>5% (4)</td>\n      <td>1% (1)</td>\n      <td>0% (0)</td>\n      <td>0% (0)</td>\n      <td>https://www.buscalibre.cl/libro-nutricion-emoc...</td>\n      <td>1</td>\n    </tr>\n    <tr>\n      <th>2</th>\n      <td>una corte de rosas y espinas</td>\n      <td>sarah j. maas</td>\n      <td>planeta</td>\n      <td>13930</td>\n      <td>quito una vida. ahora tiene que pagar con su p...</td>\n      <td>formatolibro fisico autor sarah j. maas editor...</td>\n      <td>75% (6)</td>\n      <td>25% (2)</td>\n      <td>0% (0)</td>\n      <td>0% (0)</td>\n      <td>0% (0)</td>\n      <td>https://www.buscalibre.cl/libro-una-corte-de-r...</td>\n      <td>1</td>\n    </tr>\n    <tr>\n      <th>3</th>\n      <td>ojos que no ven</td>\n      <td>carmen gloria lopez</td>\n      <td>sudamericana</td>\n      <td>10800</td>\n      <td>textos hibridos que apuntan a reflexionar sobr...</td>\n      <td>formatolibro fisico autor carmen gloria lopez ...</td>\n      <td>0% (0)</td>\n      <td>0% (0)</td>\n      <td>0% (0)</td>\n      <td>0% (0)</td>\n      <td>0% (0)</td>\n      <td>https://www.buscalibre.cl/libro-ojos-que-no-ve...</td>\n      <td>1</td>\n    </tr>\n    <tr>\n      <th>4</th>\n      <td>casa de tierra y sangre (ciudad medialuna 1)</td>\n      <td>sarah j. maas</td>\n      <td>alfaguara</td>\n      <td>15390</td>\n      <td>unidos por la sangre. tentados por el deseo. l...</td>\n      <td>formatolibro fisico autor sarah j. maas editor...</td>\n      <td>87% (120)</td>\n      <td>9% (13)</td>\n      <td>3% (4)</td>\n      <td>1% (1)</td>\n      <td>0% (0)</td>\n      <td>https://www.buscalibre.cl/libro-casa-de-tierra...</td>\n      <td>1</td>\n    </tr>\n  </tbody>\n</table>\n</div>"
     },
     "execution_count": 220,
     "metadata": {},
     "output_type": "execute_result"
    }
   ],
   "source": [
    "df.head()"
   ],
   "metadata": {
    "collapsed": false,
    "pycharm": {
     "name": "#%%\n"
    }
   }
  },
  {
   "cell_type": "code",
   "execution_count": 221,
   "outputs": [
    {
     "name": "stdout",
     "output_type": "stream",
     "text": [
      "<class 'pandas.core.frame.DataFrame'>\n",
      "RangeIndex: 12867 entries, 0 to 12866\n",
      "Data columns (total 13 columns):\n",
      " #   Column       Non-Null Count  Dtype \n",
      "---  ------       --------------  ----- \n",
      " 0   name         12867 non-null  object\n",
      " 1   author       12867 non-null  object\n",
      " 2   editorial    12867 non-null  object\n",
      " 3   price        12867 non-null  int64 \n",
      " 4   review       12867 non-null  object\n",
      " 5   description  12867 non-null  object\n",
      " 6   five_stars   12867 non-null  object\n",
      " 7   four_stars   12867 non-null  object\n",
      " 8   three_stars  12867 non-null  object\n",
      " 9   two_stars    12867 non-null  object\n",
      " 10  one_star     12867 non-null  object\n",
      " 11  link         12867 non-null  object\n",
      " 12  website      12867 non-null  int64 \n",
      "dtypes: int64(2), object(11)\n",
      "memory usage: 1.3+ MB\n"
     ]
    }
   ],
   "source": [
    "df.info()"
   ],
   "metadata": {
    "collapsed": false,
    "pycharm": {
     "name": "#%%\n"
    }
   }
  },
  {
   "cell_type": "code",
   "execution_count": 222,
   "outputs": [],
   "source": [
    "df = df.copy()"
   ],
   "metadata": {
    "collapsed": false,
    "pycharm": {
     "name": "#%%\n"
    }
   }
  },
  {
   "cell_type": "markdown",
   "source": [
    "## Extracting Features"
   ],
   "metadata": {
    "collapsed": false,
    "pycharm": {
     "name": "#%% md\n"
    }
   }
  },
  {
   "cell_type": "code",
   "execution_count": 223,
   "outputs": [],
   "source": [
    "import spacy\n",
    "from web_app.get_stop_words import spanish_stop_words\n",
    "import re\n",
    "import gc"
   ],
   "metadata": {
    "collapsed": false,
    "pycharm": {
     "name": "#%%\n"
    }
   }
  },
  {
   "cell_type": "code",
   "execution_count": 224,
   "outputs": [],
   "source": [
    "df[\"description\"] = df[\"description\"].apply(lambda x: \" \".join(x.replace(\",\", \", \").split()))"
   ],
   "metadata": {
    "collapsed": false,
    "pycharm": {
     "name": "#%%\n"
    }
   }
  },
  {
   "cell_type": "code",
   "execution_count": 225,
   "outputs": [],
   "source": [
    "book_format = []\n",
    "\n",
    "for index, row in enumerate(df[\"description\"]):\n",
    "\tif \"fisico\" in row.split():\n",
    "\t\tbook_format.append(\"fisico\")\n",
    "\telif \"formatoebook\" in row.split():\n",
    "\t\tbook_format.append(\"ebook\")\n",
    "\telse:\n",
    "\t\tbook_format.append(\"\")\n",
    "\n",
    "df.insert(13, \"book_format\", book_format)"
   ],
   "metadata": {
    "collapsed": false,
    "pycharm": {
     "name": "#%%\n"
    }
   }
  },
  {
   "cell_type": "code",
   "execution_count": 226,
   "outputs": [],
   "source": [
    "book_category = []\n",
    "\n",
    "for index, row in enumerate(df[\"description\"]):\n",
    "\tsplited_row = row.split()\n",
    "\ttry:\n",
    "\t\titem = splited_row[splited_row.index(\"categoria\") + 1]\n",
    "\n",
    "\t\tif \",\" in item:\n",
    "\t\t\titem += \" \" + splited_row[splited_row.index(\"categoria\") + 2]\n",
    "\n",
    "\t\t\tif \",\" in splited_row[splited_row.index(\"categoria\") + 2]:\n",
    "\t\t\t\titem += \" \" + splited_row[splited_row.index(\"categoria\") + 3]\n",
    "\n",
    "\t\tbook_category.append(item)\n",
    "\n",
    "\texcept:\n",
    "\t\tbook_category.append(\"\")\n",
    "\n",
    "df.insert(14, \"book_category\", book_category)"
   ],
   "metadata": {
    "collapsed": false,
    "pycharm": {
     "name": "#%%\n"
    }
   }
  },
  {
   "cell_type": "code",
   "execution_count": 227,
   "outputs": [],
   "source": [
    "for index, row in enumerate(df[\"book_category\"]):\n",
    "\tif row == \"no\":\n",
    "\t\tdf.at[index, \"book_category\"] = \"no-ficcion\""
   ],
   "metadata": {
    "collapsed": false,
    "pycharm": {
     "name": "#%%\n"
    }
   }
  },
  {
   "cell_type": "code",
   "execution_count": 228,
   "outputs": [],
   "source": [
    "book_year = []\n",
    "\n",
    "for index, row in enumerate(df[\"description\"]):\n",
    "\tsplited_row = row.split()\n",
    "\n",
    "\ttry:\n",
    "\t\tbook_year.append(splited_row[splited_row.index(\"ano\") + 1])\n",
    "\texcept:\n",
    "\t\tbook_year.append(\"\")\n",
    "\n",
    "df.insert(15, \"book_year\", book_year)"
   ],
   "metadata": {
    "collapsed": false,
    "pycharm": {
     "name": "#%%\n"
    }
   }
  },
  {
   "cell_type": "code",
   "execution_count": 229,
   "outputs": [
    {
     "name": "stdout",
     "output_type": "stream",
     "text": [
      "Número de Libros en Otro lenguaje: 886\n"
     ]
    }
   ],
   "source": [
    "other_languages_amount = 0\n",
    "\n",
    "for row in df[\"description\"]:\n",
    "\tif \"spa\" not in row and \"castel\" not in row:\n",
    "\t\tother_languages_amount += 1\n",
    "\n",
    "print(f\"Número de Libros en Otro lenguaje: {other_languages_amount}\")"
   ],
   "metadata": {
    "collapsed": false,
    "pycharm": {
     "name": "#%%\n"
    }
   }
  },
  {
   "cell_type": "code",
   "execution_count": 230,
   "outputs": [],
   "source": [
    "for index, row in enumerate(df[\"description\"]):\n",
    "\tif \"spa\" not in row and \"castel\" not in row:\n",
    "\t\tdf.drop(index=index, inplace=True)\n",
    "\n",
    "df.reset_index(drop=True, inplace=True)"
   ],
   "metadata": {
    "collapsed": false,
    "pycharm": {
     "name": "#%%\n"
    }
   }
  },
  {
   "cell_type": "code",
   "execution_count": 231,
   "outputs": [],
   "source": [
    "book_pages = []\n",
    "\n",
    "for index, row in enumerate(df[\"description\"]):\n",
    "\tsplited_row = row.split()\n",
    "\n",
    "\ttry:\n",
    "\t\tbook_pages.append(splited_row[splited_row.index(\"paginas\") + 1])\n",
    "\texcept:\n",
    "\t\tbook_pages.append(\"\")\n",
    "\n",
    "df.insert(16, \"book_pages\", book_pages)"
   ],
   "metadata": {
    "collapsed": false,
    "pycharm": {
     "name": "#%%\n"
    }
   }
  },
  {
   "cell_type": "code",
   "execution_count": 232,
   "outputs": [],
   "source": [
    "nlp = spacy.load(\"es_core_news_sm\")\n",
    "\n",
    "def clean_string(string):\n",
    "\tfor character in string:\n",
    "\t\tif character not in \"abcdefghijklmnopqrstuvwxyz \":\n",
    "\t\t\tstring = string.replace(character, \"\")\n",
    "\n",
    "\tdocument = nlp(string)\n",
    "\n",
    "\treturn \" \".join([word.lemma_ for word in document if word.lemma_ not in spanish_stop_words])\n",
    "\n",
    "df[\"name_cleaned\"] = df[\"name\"].apply(lambda x: clean_string(x))"
   ],
   "metadata": {
    "collapsed": false,
    "pycharm": {
     "name": "#%%\n"
    }
   }
  },
  {
   "cell_type": "code",
   "execution_count": 233,
   "outputs": [],
   "source": [
    "rating = []\n",
    "raters = []\n",
    "\n",
    "for index in range(df.shape[0]):\n",
    "\tstar5 = int(re.search(r\"\\((.*?)\\)\", df[\"five_stars\"].iloc[index]).group(1))\n",
    "\tstar4 = int(re.search(r\"\\((.*?)\\)\", df[\"four_stars\"].iloc[index]).group(1))\n",
    "\tstar3 = int(re.search(r\"\\((.*?)\\)\", df[\"three_stars\"].iloc[index]).group(1))\n",
    "\tstar2 = int(re.search(r\"\\((.*?)\\)\", df[\"two_stars\"].iloc[index]).group(1))\n",
    "\tstar1 = int(re.search(r\"\\((.*?)\\)\", df[\"one_star\"].iloc[index]).group(1))\n",
    "\n",
    "\tnumerator = 5 * star5 + 4 * star4 + 3 * star3 + 2 * star2 + star1\n",
    "\tdenominator = star5 + star4 + star3 + star2 + star1\n",
    "\n",
    "\tif denominator == 0:\n",
    "\t\trating.append(0)\n",
    "\telse:\n",
    "\t\trating.append(numerator / denominator)\n",
    "\n",
    "\traters.append(denominator)\n",
    "\n",
    "df.insert(18, \"rating\", rating)\n",
    "df.insert(19, \"raters\", raters)"
   ],
   "metadata": {
    "collapsed": false,
    "pycharm": {
     "name": "#%%\n"
    }
   }
  },
  {
   "cell_type": "code",
   "execution_count": 234,
   "outputs": [],
   "source": [
    "mean_rating = 0\n",
    "for row in df[\"rating\"]:\n",
    "\tmean_rating += row\n",
    "\n",
    "mean_rating = mean_rating / df.shape[0]\n",
    "max_raters = max(df[\"raters\"])\n",
    "\n",
    "def bayesian_rating(rating, raters):\n",
    "\treturn rating * (raters / max_raters) + (1 - (raters / max_raters)) * mean_rating"
   ],
   "metadata": {
    "collapsed": false,
    "pycharm": {
     "name": "#%%\n"
    }
   }
  },
  {
   "cell_type": "code",
   "execution_count": 235,
   "outputs": [],
   "source": [
    "bayesian_ratings = [\n",
    "\tbayesian_rating(df[\"rating\"].iloc[i], df[\"raters\"].iloc[i]) for i in range(df.shape[0])\n",
    "]\n",
    "\n",
    "df.insert(20, \"bayesian_rating\", bayesian_ratings)"
   ],
   "metadata": {
    "collapsed": false,
    "pycharm": {
     "name": "#%%\n"
    }
   }
  },
  {
   "cell_type": "code",
   "execution_count": 236,
   "outputs": [],
   "source": [
    "def raw_string(string):\n",
    "\tfor character in string:\n",
    "\t\tif character not in \"abcdefghijklmnopqrstuvwxyz \":\n",
    "\t\t\tstring = string.replace(character, \"\")\n",
    "\n",
    "\treturn string"
   ],
   "metadata": {
    "collapsed": false,
    "pycharm": {
     "name": "#%%\n"
    }
   }
  },
  {
   "cell_type": "code",
   "execution_count": 237,
   "outputs": [],
   "source": [
    "punctuations = []\n",
    "\n",
    "for row in df[\"description\"]:\n",
    "\tfor character in row:\n",
    "\t\tif character not in \"abcdefghijklmnopqrstuvwxyz \":\n",
    "\t\t\tpunctuations.append(character)\n",
    "\n",
    "punctuations = list(set(punctuations))"
   ],
   "metadata": {
    "collapsed": false,
    "pycharm": {
     "name": "#%%\n"
    }
   }
  },
  {
   "cell_type": "code",
   "execution_count": 284,
   "outputs": [
    {
     "name": "stderr",
     "output_type": "stream",
     "text": [
      "/home/cris/miniconda3/envs/books/lib/python3.9/site-packages/numpy/core/fromnumeric.py:3474: RuntimeWarning: Mean of empty slice.\n",
      "  return _methods._mean(a, axis=axis, dtype=dtype,\n",
      "/home/cris/miniconda3/envs/books/lib/python3.9/site-packages/numpy/core/_methods.py:264: RuntimeWarning: Degrees of freedom <= 0 for slice\n",
      "  ret = _var(a, axis=axis, dtype=dtype, out=out, ddof=ddof,\n",
      "/home/cris/miniconda3/envs/books/lib/python3.9/site-packages/numpy/core/fromnumeric.py:3474: RuntimeWarning: Mean of empty slice.\n",
      "  return _methods._mean(a, axis=axis, dtype=dtype,\n",
      "/home/cris/miniconda3/envs/books/lib/python3.9/site-packages/numpy/core/_methods.py:264: RuntimeWarning: Degrees of freedom <= 0 for slice\n",
      "  ret = _var(a, axis=axis, dtype=dtype, out=out, ddof=ddof,\n"
     ]
    }
   ],
   "source": [
    "df[\"review_raw\"] = df[\"review\"].apply(lambda x: raw_string(x))\n",
    "\n",
    "df[\"review_chars_count\"] = df[\"review\"].apply(lambda x: len(x))\n",
    "df[\"review_words_count\"] = df[\"review_raw\"].apply(lambda x: len(x.split()))\n",
    "df[\"review_uniques_counts\"] = df[\"review_raw\"].apply(lambda x: len(set(x.split())))\n",
    "df[\"review_stopwords_count\"] = df[\"review_raw\"].apply(\n",
    "\tlambda x: len([word for word in x.split() if word in spanish_stop_words])\n",
    ")\n",
    "df[\"review_non_stopwords_rate\"] = (df[\"review_stopwords_count\"] / df[\"review_words_count\"])\n",
    "df[\"review_mean_word_length\"] = df[\"review_raw\"].apply(\n",
    "\tlambda x: np.mean([len(word) for word in x.split()])\n",
    ")\n",
    "df[\"review_std_word_length\"] = df[\"review_raw\"].apply(\n",
    "\tlambda x: np.std([len(word) for word in x.split()])\n",
    ")\n",
    "df[\"review_punctuations_count\"] = df[\"review\"].apply(\n",
    "\tlambda x: len([char for char in x if char in punctuations])\n",
    ")\n",
    "\n",
    "df[\"review_sentence_count\"] = df[\"review\"].apply(\n",
    "\tlambda x: len([sent for sent in x.split(\".\") if len(sent) != 0])\n",
    ")\n",
    "df[\"review_mean_sentence_length\"] = df[\"review\"].apply(\n",
    "\tlambda x: np.mean([len(sent) for sent in x.split(\".\") if len(sent) != 0])\n",
    ")\n",
    "df[\"review_std_sentence_length\"] = df[\"review\"].apply(\n",
    "\tlambda x: np.std([len(sent) for sent in x.split(\".\") if len(sent) != 0])\n",
    ")\n",
    "df[\"review_max_sentence_length\"] = df[\"review\"].apply(\n",
    "\tlambda x: max([len(sent) for sent in x.split(\".\")])\n",
    ")"
   ],
   "metadata": {
    "collapsed": false,
    "pycharm": {
     "name": "#%%\n"
    }
   }
  },
  {
   "cell_type": "code",
   "execution_count": 285,
   "outputs": [
    {
     "name": "stdout",
     "output_type": "stream",
     "text": [
      "<class 'pandas.core.frame.DataFrame'>\n",
      "RangeIndex: 11981 entries, 0 to 11980\n",
      "Data columns (total 34 columns):\n",
      " #   Column                       Non-Null Count  Dtype  \n",
      "---  ------                       --------------  -----  \n",
      " 0   name                         11981 non-null  object \n",
      " 1   author                       11981 non-null  object \n",
      " 2   editorial                    11981 non-null  object \n",
      " 3   price                        11981 non-null  int64  \n",
      " 4   review                       11981 non-null  object \n",
      " 5   description                  11981 non-null  object \n",
      " 6   five_stars                   11981 non-null  object \n",
      " 7   four_stars                   11981 non-null  object \n",
      " 8   three_stars                  11981 non-null  object \n",
      " 9   two_stars                    11981 non-null  object \n",
      " 10  one_star                     11981 non-null  object \n",
      " 11  link                         11981 non-null  object \n",
      " 12  website                      11981 non-null  int64  \n",
      " 13  book_format                  11981 non-null  object \n",
      " 14  book_category                11981 non-null  object \n",
      " 15  book_year                    11981 non-null  object \n",
      " 16  book_pages                   11981 non-null  object \n",
      " 17  name_cleaned                 11981 non-null  object \n",
      " 18  rating                       11981 non-null  float64\n",
      " 19  raters                       11981 non-null  int64  \n",
      " 20  bayesian_rating              11981 non-null  float64\n",
      " 21  review_raw                   11981 non-null  object \n",
      " 22  review_chars_count           11981 non-null  int64  \n",
      " 23  review_words_count           11981 non-null  int64  \n",
      " 24  review_uniques_counts        11981 non-null  int64  \n",
      " 25  review_stopwords_count       11981 non-null  int64  \n",
      " 26  review_non_stopwords_rate    11958 non-null  float64\n",
      " 27  review_mean_word_length      11958 non-null  float64\n",
      " 28  review_std_word_length       11958 non-null  float64\n",
      " 29  review_punctuations_count    11981 non-null  int64  \n",
      " 30  review_sentence_count        11981 non-null  int64  \n",
      " 31  review_mean_sentence_length  11980 non-null  float64\n",
      " 32  review_std_sentence_length   11980 non-null  float64\n",
      " 33  review_max_sentence_length   11981 non-null  int64  \n",
      "dtypes: float64(7), int64(10), object(17)\n",
      "memory usage: 3.1+ MB\n"
     ]
    }
   ],
   "source": [
    "df.info()"
   ],
   "metadata": {
    "collapsed": false,
    "pycharm": {
     "name": "#%%\n"
    }
   }
  },
  {
   "cell_type": "code",
   "execution_count": 286,
   "outputs": [
    {
     "data": {
      "text/plain": "14343"
     },
     "execution_count": 286,
     "metadata": {},
     "output_type": "execute_result"
    }
   ],
   "source": [
    "del book_format, book_category, book_year, other_languages_amount\n",
    "del book_pages, rating, raters, bayesian_ratings, punctuations\n",
    "del mean_rating, max_raters, nlp\n",
    "\n",
    "gc.collect()"
   ],
   "metadata": {
    "collapsed": false,
    "pycharm": {
     "name": "#%%\n"
    }
   }
  },
  {
   "cell_type": "code",
   "execution_count": 131,
   "outputs": [],
   "source": [],
   "metadata": {
    "collapsed": false,
    "pycharm": {
     "name": "#%%\n"
    }
   }
  },
  {
   "cell_type": "markdown",
   "source": [
    "## Univariate Analysis"
   ],
   "metadata": {
    "collapsed": false,
    "pycharm": {
     "name": "#%% md\n"
    }
   }
  },
  {
   "cell_type": "code",
   "execution_count": 287,
   "outputs": [],
   "source": [
    "from collections import Counter\n",
    "import matplotlib.pyplot as plt\n",
    "import seaborn as sns"
   ],
   "metadata": {
    "collapsed": false,
    "pycharm": {
     "name": "#%%\n"
    }
   }
  },
  {
   "cell_type": "code",
   "execution_count": 288,
   "outputs": [
    {
     "data": {
      "text/plain": "<Figure size 720x720 with 1 Axes>",
      "image/png": "[encoded data removed]"
     },
     "metadata": {
      "needs_background": "light"
     },
     "output_type": "display_data"
    }
   ],
   "source": [
    "all_words = [word for row in df[\"name_cleaned\"] for word in row.split()]\n",
    "\n",
    "counts = Counter(all_words)\n",
    "counts.most_common()\n",
    "\n",
    "most_common_words = [word[0] for word in counts.most_common()[0:15]]\n",
    "most_common_values = [word[1] for word in counts.most_common()[0:15]]\n",
    "\n",
    "fig = plt.subplots(figsize=(10, 10))\n",
    "sns.barplot(y=most_common_words, x=most_common_values, color=\"#4C6EB3\")\n",
    "plt.title(\"15 Palabras más utilizadas en el nombre\", fontsize=15)\n",
    "plt.xlabel(\"Cantidad\", fontsize=12)\n",
    "plt.ylabel(\"Palabra\", fontsize=12)\n",
    "plt.savefig(\"plots/most_common_words_in_names.png\", bbox_inches=\"tight\", facecolor=\"#e3e3e3\",\n",
    "\t\t\tpad_inches=0.3, transparent=False)\n",
    "plt.show()"
   ],
   "metadata": {
    "collapsed": false,
    "pycharm": {
     "name": "#%%\n"
    }
   }
  },
  {
   "cell_type": "code",
   "execution_count": 289,
   "outputs": [
    {
     "data": {
      "text/plain": "count     11981.000000\nmean      11896.204824\nstd        8988.782210\nmin         810.000000\n25%        8020.000000\n50%       11250.000000\n75%       14570.000000\nmax      667340.000000\nName: price, dtype: float64"
     },
     "execution_count": 289,
     "metadata": {},
     "output_type": "execute_result"
    }
   ],
   "source": [
    "df[\"price\"].describe()"
   ],
   "metadata": {
    "collapsed": false,
    "pycharm": {
     "name": "#%%\n"
    }
   }
  },
  {
   "cell_type": "code",
   "execution_count": 290,
   "outputs": [
    {
     "name": "stdout",
     "output_type": "stream",
     "text": [
      "Percentil 90: 22600.0\n"
     ]
    }
   ],
   "source": [
    "print(f\"Percentil 90: {np.percentile(df['price'], 95)}\")"
   ],
   "metadata": {
    "collapsed": false,
    "pycharm": {
     "name": "#%%\n"
    }
   }
  },
  {
   "cell_type": "code",
   "execution_count": 291,
   "outputs": [
    {
     "data": {
      "text/plain": "<Figure size 720x720 with 1 Axes>",
      "image/png": "[encoded data removed]"
     },
     "metadata": {
      "needs_background": "light"
     },
     "output_type": "display_data"
    }
   ],
   "source": [
    "fig = plt.subplots(figsize=(10, 10))\n",
    "sns.histplot(df[df[\"price\"] <= 50_000][\"price\"], bins=30)\n",
    "plt.title(\"Histograma del Precio de Cada Libro\",\n",
    "\t\t  fontsize=15)\n",
    "plt.xlabel(\"Precio (Pesos Chilenos)\", fontsize=12)\n",
    "plt.ylabel(\"Cantidad\", fontsize=12)\n",
    "plt.savefig(\"plots/price.png\", bbox_inches=\"tight\", facecolor=\"#e3e3e3\",\n",
    "\t\t\tpad_inches=0.3, transparent=False)\n",
    "plt.show()"
   ],
   "metadata": {
    "collapsed": false,
    "pycharm": {
     "name": "#%%\n"
    }
   }
  },
  {
   "cell_type": "code",
   "execution_count": null,
   "outputs": [],
   "source": [],
   "metadata": {
    "collapsed": false,
    "pycharm": {
     "name": "#%%\n"
    }
   }
  },
  {
   "cell_type": "code",
   "execution_count": null,
   "outputs": [],
   "source": [],
   "metadata": {
    "collapsed": false,
    "pycharm": {
     "name": "#%%\n"
    }
   }
  },
  {
   "cell_type": "code",
   "execution_count": null,
   "outputs": [],
   "source": [],
   "metadata": {
    "collapsed": false,
    "pycharm": {
     "name": "#%%\n"
    }
   }
  },
  {
   "cell_type": "code",
   "execution_count": null,
   "outputs": [],
   "source": [],
   "metadata": {
    "collapsed": false,
    "pycharm": {
     "name": "#%%\n"
    }
   }
  },
  {
   "cell_type": "code",
   "execution_count": 46,
   "outputs": [],
   "source": [
    "del all_words, counts, most_common_words, most_common_values, fig"
   ],
   "metadata": {
    "collapsed": false,
    "pycharm": {
     "name": "#%%\n"
    }
   }
  },
  {
   "cell_type": "code",
   "execution_count": null,
   "outputs": [],
   "source": [],
   "metadata": {
    "collapsed": false,
    "pycharm": {
     "name": "#%%\n"
    }
   }
  }
 ],
 "metadata": {
  "kernelspec": {
   "display_name": "Python 3",
   "language": "python",
   "name": "python3"
  },
  "language_info": {
   "codemirror_mode": {
    "name": "ipython",
    "version": 2
   },
   "file_extension": ".py",
   "mimetype": "text/x-python",
   "name": "python",
   "nbconvert_exporter": "python",
   "pygments_lexer": "ipython2",
   "version": "2.7.6"
  }
 },
 "nbformat": 4,
 "nbformat_minor": 0
}