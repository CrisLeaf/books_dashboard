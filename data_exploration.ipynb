{
 "cells": [
  {
   "cell_type": "code",
   "execution_count": 1,
   "metadata": {
    "collapsed": true
   },
   "outputs": [],
   "source": [
    "import psycopg2\n",
    "import pandas as pd\n",
    "from web_app.psql_secrets import psql_params"
   ]
  },
  {
   "cell_type": "code",
   "execution_count": 2,
   "outputs": [],
   "source": [
    "conn = psycopg2.connect(**psql_params)\n",
    "curr = conn.cursor()\n",
    "\n",
    "curr.execute(\"SELECT name, author, editorial, price, review, description, five_stars, four_stars, \"\n",
    "\t\t\t \"three_stars, two_stars, one_star, link, website FROM books\")\n",
    "tuples = curr.fetchall()\n",
    "\n",
    "df = pd.DataFrame(tuples, columns=[\"name\", \"author\", \"editorial\", \"price\", \"review\",\n",
    "\t\t\t\t\t\t\t\t   \"description\", \"five_stars\", \"four_stars\", \"three_stars\",\n",
    "\t\t\t\t\t\t\t\t   \"two_stars\", \"one_star\", \"link\", \"website\"])\n",
    "indexes = pd.Series(df.index, index=df[\"link\"])\n",
    "\n",
    "curr.close()\n",
    "conn.close()"
   ],
   "metadata": {
    "collapsed": false,
    "pycharm": {
     "name": "#%%\n"
    }
   }
  },
  {
   "cell_type": "code",
   "execution_count": 3,
   "outputs": [
    {
     "data": {
      "text/plain": "                                           name               author  \\\n0                fleur. mi desesperada decision         ariana godoy   \n1                           nutricion emocional           fran sabal   \n2                  una corte de rosas y espinas        sarah j. maas   \n3                               ojos que no ven  carmen gloria lopez   \n4  casa de tierra y sangre (ciudad medialuna 1)        sarah j. maas   \n\n      editorial  price                                             review  \\\n0       montena  13500  una noche es suficiente para cambiar tu vida, ...   \n1       planeta  10430  ?por que el crecimiento personal es clave a la...   \n2       planeta  13930  quito una vida. ahora tiene que pagar con su p...   \n3  sudamericana  10800  textos hibridos que apuntan a reflexionar sobr...   \n4     alfaguara  15390  unidos por la sangre. tentados por el deseo. l...   \n\n                                         description five_stars four_stars  \\\n0  formatolibro fisico autor ariana godoy editori...   100% (7)     0% (0)   \n1  formatolibro fisico autor fran sabal editorial...   94% (76)     5% (4)   \n2  formatolibro fisico autor sarah j. maas editor...    75% (6)    25% (2)   \n3  formatolibro fisico autor carmen gloria lopez ...     0% (0)     0% (0)   \n4  formatolibro fisico autor sarah j. maas editor...  87% (120)    9% (13)   \n\n  three_stars two_stars one_star  \\\n0      0% (0)    0% (0)   0% (0)   \n1      1% (1)    0% (0)   0% (0)   \n2      0% (0)    0% (0)   0% (0)   \n3      0% (0)    0% (0)   0% (0)   \n4      3% (4)    1% (1)   0% (0)   \n\n                                                link  website  \n0  https://www.buscalibre.cl/libro-fleur-mi-deses...        1  \n1  https://www.buscalibre.cl/libro-nutricion-emoc...        1  \n2  https://www.buscalibre.cl/libro-una-corte-de-r...        1  \n3  https://www.buscalibre.cl/libro-ojos-que-no-ve...        1  \n4  https://www.buscalibre.cl/libro-casa-de-tierra...        1  ",
      "text/html": "<div>\n<style scoped>\n    .dataframe tbody tr th:only-of-type {\n        vertical-align: middle;\n    }\n\n    .dataframe tbody tr th {\n        vertical-align: top;\n    }\n\n    .dataframe thead th {\n        text-align: right;\n    }\n</style>\n<table border=\"1\" class=\"dataframe\">\n  <thead>\n    <tr style=\"text-align: right;\">\n      <th></th>\n      <th>name</th>\n      <th>author</th>\n      <th>editorial</th>\n      <th>price</th>\n      <th>review</th>\n      <th>description</th>\n      <th>five_stars</th>\n      <th>four_stars</th>\n      <th>three_stars</th>\n      <th>two_stars</th>\n      <th>one_star</th>\n      <th>link</th>\n      <th>website</th>\n    </tr>\n  </thead>\n  <tbody>\n    <tr>\n      <th>0</th>\n      <td>fleur. mi desesperada decision</td>\n      <td>ariana godoy</td>\n      <td>montena</td>\n      <td>13500</td>\n      <td>una noche es suficiente para cambiar tu vida, ...</td>\n      <td>formatolibro fisico autor ariana godoy editori...</td>\n      <td>100% (7)</td>\n      <td>0% (0)</td>\n      <td>0% (0)</td>\n      <td>0% (0)</td>\n      <td>0% (0)</td>\n      <td>https://www.buscalibre.cl/libro-fleur-mi-deses...</td>\n      <td>1</td>\n    </tr>\n    <tr>\n      <th>1</th>\n      <td>nutricion emocional</td>\n      <td>fran sabal</td>\n      <td>planeta</td>\n      <td>10430</td>\n      <td>?por que el crecimiento personal es clave a la...</td>\n      <td>formatolibro fisico autor fran sabal editorial...</td>\n      <td>94% (76)</td>\n      <td>5% (4)</td>\n      <td>1% (1)</td>\n      <td>0% (0)</td>\n      <td>0% (0)</td>\n      <td>https://www.buscalibre.cl/libro-nutricion-emoc...</td>\n      <td>1</td>\n    </tr>\n    <tr>\n      <th>2</th>\n      <td>una corte de rosas y espinas</td>\n      <td>sarah j. maas</td>\n      <td>planeta</td>\n      <td>13930</td>\n      <td>quito una vida. ahora tiene que pagar con su p...</td>\n      <td>formatolibro fisico autor sarah j. maas editor...</td>\n      <td>75% (6)</td>\n      <td>25% (2)</td>\n      <td>0% (0)</td>\n      <td>0% (0)</td>\n      <td>0% (0)</td>\n      <td>https://www.buscalibre.cl/libro-una-corte-de-r...</td>\n      <td>1</td>\n    </tr>\n    <tr>\n      <th>3</th>\n      <td>ojos que no ven</td>\n      <td>carmen gloria lopez</td>\n      <td>sudamericana</td>\n      <td>10800</td>\n      <td>textos hibridos que apuntan a reflexionar sobr...</td>\n      <td>formatolibro fisico autor carmen gloria lopez ...</td>\n      <td>0% (0)</td>\n      <td>0% (0)</td>\n      <td>0% (0)</td>\n      <td>0% (0)</td>\n      <td>0% (0)</td>\n      <td>https://www.buscalibre.cl/libro-ojos-que-no-ve...</td>\n      <td>1</td>\n    </tr>\n    <tr>\n      <th>4</th>\n      <td>casa de tierra y sangre (ciudad medialuna 1)</td>\n      <td>sarah j. maas</td>\n      <td>alfaguara</td>\n      <td>15390</td>\n      <td>unidos por la sangre. tentados por el deseo. l...</td>\n      <td>formatolibro fisico autor sarah j. maas editor...</td>\n      <td>87% (120)</td>\n      <td>9% (13)</td>\n      <td>3% (4)</td>\n      <td>1% (1)</td>\n      <td>0% (0)</td>\n      <td>https://www.buscalibre.cl/libro-casa-de-tierra...</td>\n      <td>1</td>\n    </tr>\n  </tbody>\n</table>\n</div>"
     },
     "execution_count": 3,
     "metadata": {},
     "output_type": "execute_result"
    }
   ],
   "source": [
    "df.head()"
   ],
   "metadata": {
    "collapsed": false,
    "pycharm": {
     "name": "#%%\n"
    }
   }
  },
  {
   "cell_type": "code",
   "execution_count": 4,
   "outputs": [
    {
     "name": "stdout",
     "output_type": "stream",
     "text": [
      "<class 'pandas.core.frame.DataFrame'>\n",
      "RangeIndex: 12867 entries, 0 to 12866\n",
      "Data columns (total 13 columns):\n",
      " #   Column       Non-Null Count  Dtype \n",
      "---  ------       --------------  ----- \n",
      " 0   name         12867 non-null  object\n",
      " 1   author       12867 non-null  object\n",
      " 2   editorial    12867 non-null  object\n",
      " 3   price        12867 non-null  int64 \n",
      " 4   review       12867 non-null  object\n",
      " 5   description  12867 non-null  object\n",
      " 6   five_stars   12867 non-null  object\n",
      " 7   four_stars   12867 non-null  object\n",
      " 8   three_stars  12867 non-null  object\n",
      " 9   two_stars    12867 non-null  object\n",
      " 10  one_star     12867 non-null  object\n",
      " 11  link         12867 non-null  object\n",
      " 12  website      12867 non-null  int64 \n",
      "dtypes: int64(2), object(11)\n",
      "memory usage: 1.3+ MB\n"
     ]
    }
   ],
   "source": [
    "df.info()"
   ],
   "metadata": {
    "collapsed": false,
    "pycharm": {
     "name": "#%%\n"
    }
   }
  },
  {
   "cell_type": "code",
   "execution_count": 5,
   "outputs": [],
   "source": [
    "df = df.copy()"
   ],
   "metadata": {
    "collapsed": false,
    "pycharm": {
     "name": "#%%\n"
    }
   }
  },
  {
   "cell_type": "markdown",
   "source": [
    "## Description"
   ],
   "metadata": {
    "collapsed": false
   }
  },
  {
   "cell_type": "code",
   "execution_count": 6,
   "outputs": [
    {
     "data": {
      "text/plain": "0        formatolibro fisico autor ariana godoy editori...\n1        formatolibro fisico autor fran sabal editorial...\n2        formatolibro fisico autor sarah j. maas editor...\n3        formatolibro fisico autor carmen gloria lopez ...\n4        formatolibro fisico autor sarah j. maas editor...\n                               ...                        \n12862    formatolibro fisico autor taylor jenkins reid ...\n12863    formatolibro fisico autor flor m. salvador edi...\n12864    formatolibro fisico autor maria jose castro ed...\n12865    formatolibro fisico autor isabel allende edito...\n12866    formatolibro fisico autor alice kellen editori...\nName: description, Length: 12867, dtype: object"
     },
     "execution_count": 6,
     "metadata": {},
     "output_type": "execute_result"
    }
   ],
   "source": [
    "df[\"description\"]"
   ],
   "metadata": {
    "collapsed": false,
    "pycharm": {
     "name": "#%%\n"
    }
   }
  },
  {
   "cell_type": "code",
   "execution_count": 7,
   "outputs": [
    {
     "data": {
      "text/plain": "['formatolibro',\n 'fisico',\n 'autor',\n 'charles',\n 'bukowski',\n 'editorial',\n 'anagrama',\n 'categoria',\n 'erotica',\n 'tema',\n 'novela',\n 'ano',\n '2006',\n 'idioma',\n 'espanol',\n 'ndeg',\n 'paginas',\n '192',\n 'encuadernacion',\n 'tapa',\n 'blanda',\n 'dimensiones',\n '14',\n 'x',\n '21',\n 'cm',\n 'isbn',\n '9788433920447',\n 'isbn13',\n '9788433920447',\n 'ndeg',\n 'edicion',\n '1']"
     },
     "execution_count": 7,
     "metadata": {},
     "output_type": "execute_result"
    }
   ],
   "source": [
    "df[\"description\"][555].split()"
   ],
   "metadata": {
    "collapsed": false,
    "pycharm": {
     "name": "#%%\n"
    }
   }
  },
  {
   "cell_type": "code",
   "execution_count": 8,
   "outputs": [],
   "source": [
    "df[\"description\"] = df[\"description\"].apply(lambda x: \" \".join(x.replace(\",\", \", \").split()))"
   ],
   "metadata": {
    "collapsed": false,
    "pycharm": {
     "name": "#%%\n"
    }
   }
  },
  {
   "cell_type": "code",
   "execution_count": 9,
   "outputs": [
    {
     "name": "stdout",
     "output_type": "stream",
     "text": [
      "514 autor liliana baltra editorial ebooks patagonia ano 2015 idioma espanol encuadernacion epub isbn 9563381246 isbn13 9789563381245\n",
      "520 autor jacqueline marie dussaillant christie editorial ediciones universidad catolica categoria narrativa tema cuentos chilenos ano 2014 idioma espanol ndeg paginas 120 dimensiones 19, 5 x 27x54 cms. isbn13 9789561413948\n",
      "1826 autor marco antonio roca editorial ebooks patagonia ano 2015 idioma espanol encuadernacion epub isbn 956338122x isbn13 9789563381221\n",
      "1929 autor daniel pincheira editorial ebooks patagonia categoria autoayuda ano 2014 idioma espanol ndeg paginas 448 encuadernacion epub dimensiones 17 x 24 cm. isbn13 9789561413078\n",
      "2506 autor herman melville editorial ebooks patagonia tema bolsillo coleccion bolsillo ano 2016 idioma espanol ndeg paginas 160 encuadernacion epub isbn 9562828344 isbn13 9789562828345\n",
      "2621 autor miguel baraona editorial ebooks patagonia categoria antropologia tema ciencias humanas coleccion ciencias humanas ano 2015 idioma espanol ndeg paginas 272 encuadernacion epub isbn 9562829464 isbn13 9789562829465\n",
      "2784 autor isidora aguirre editorial ebooks patagonia categoria novela tema novela contemporanea coleccion literatura ano 2015 idioma espanol ndeg paginas 152 encuadernacion epub dimensiones 15, 5 x 22, 5 cms peso sin informacion isbn 9568601295 isbn13 9789568601294\n",
      "2900 autor l. j. smiths editorial destino categoria novela ano 2012 idioma espanol encuadernacion epub peso sin informacion isbn 8408085360 isbn13 9788408085362\n",
      "3743 autor maite sasia editorial ebooks patagonia ano 2012 idioma espanol encuadernacion epub isbn 9568992251 isbn13 9789568992255\n",
      "3761 autor gonzalo gil s. editorial ebooks patagonia ano 2017 idioma espanol encuadernacion tapa blanda peso sin informacion isbn 9561412500 isbn13 9789561412507\n",
      "3803 autor cecilia fassardi editorial editorial albatros categoria infantil y juvenil ano 2014 idioma espanol ndeg paginas 96 encuadernacion epub isbn 9502413741 isbn13 9789502413747\n",
      "3891 autor alfredo rodriguez editorial ebooks patagonia categoria novela ano 2016 idioma espanol encuadernacion epub isbn 956000378x isbn13 9789560003782\n",
      "3915 formatoepub autor terry pratchett editorial random house mondadori coleccion exitos idioma espanol isbn13 9788401354632\n",
      "3945 autor juan de dios ortuzar s. editorial ebooks patagonia coleccion fondo ano 2016 idioma espanol ndeg paginas 248 encuadernacion rustica isbn 9561413094 isbn13 9789561413092\n",
      "4020 autor beda estrada editorial ebooks patagonia ano 2015 idioma espanol ndeg paginas 120 encuadernacion epub isbn13 9789563381108\n",
      "4520 autor fernando atria editorial ebooks patagonia categoria ciencias humanas tema sociologia ano 2017 idioma espanol ndeg paginas 332 encuadernacion epub dimensiones 14 x 21, 5 cm. isbn13 9789560005335\n",
      "4530 autor clarisa. hardy editorial ebooks patagonia categoria ciencias humanas tema sociologia ano 2017 idioma espanol ndeg paginas 260 encuadernacion epub dimensiones 14 x 21, 5 cm. isbn13 9789560005366 ndeg edicion 1\n",
      "4533 autor ring lardner editorial ebooks patagonia categoria literatura tema cuentos ano 2017 idioma espanol ndeg paginas 164 encuadernacion epub dimensiones 14 x 21, 5 cm. isbn13 9789560005410\n",
      "4633 autor carmen duhne editorial ebooks patagonia categoria autoayuda y superacion tema autoayuda ano 2014 idioma espanol ndeg paginas 164 encuadernacion epub dimensiones 13x21 isbn13 9789569197192\n",
      "4761 autor francisca fuenzalida editorial ebooks patagonia categoria arte tema periodismo ano 2015 idioma espanol ndeg paginas 132 encuadernacion epub isbn13 9789563381702\n",
      "4763 autor susana concejo editorial ebooks patagonia categoria literatura tema novela ano 2015 idioma espanol ndeg paginas 220 encuadernacion epub isbn13 9789563381672\n",
      "4828 autor cristian bellei editorial ebooks patagonia categoria ciencias sociales tema sociologia ano 2016 idioma espanol ndeg paginas 254 encuadernacion epub dimensiones 14 x 21, 5 cm isbn13 9789560005984\n",
      "4904 autor pamela iglesias editorial ebooks patagonia categoria literatura juvenil tema juvenil ano 2015 idioma espanol ndeg paginas 232 encuadernacion epub isbn13 9789563381641\n",
      "5119 autor luis gutierrez editorial ebooks patagonia categoria literatura ano 2015 idioma espanol ndeg paginas 143 encuadernacion epub isbn13 9789563381566\n",
      "5234 autor cecilia koenig s, guillermo salgado a y otros editorial ebooks patagonia categoria no ficcion ano 2015 idioma espanol ndeg paginas 552 encuadernacion tapa blanda isbn13 9789561415164\n",
      "5241 autor paulina baquedano droguett editorial ebooks patagonia ano 2016 idioma espanol encuadernacion rustica isbn13 9789561417250\n",
      "5253 autor pedro engel editorial catalonia categoria no ficcion ano 2017 idioma espanol ndeg paginas 152 encuadernacion tapa blanda isbn13 9789563243246\n",
      "6768 autor claudio rojas editorial ebooks patagonia ano 2015 idioma espanol encuadernacion epub isbn13 9789563381443\n",
      "10485 autor enrique alcalde editorial ebooks patagonia categoria derecho ano 2016 idioma espanol ndeg paginas 498 encuadernacion rustica isbn13 9789561413399\n",
      "10717 autor constanza ralph t. editorial ebooks patagonia categoria no ficcion ano 2017 idioma espanol ndeg paginas 988 encuadernacion rustica isbn13 9789561420557\n",
      "11504 autor fernando crovari eulufi editorial ebooks patagonia categoria medicina y ciencias de la salud tema medicina ano 2014 idioma espanol ndeg paginas 580 encuadernacion epub dimensiones 17 x 24 cms isbn13 9789561414402\n"
     ]
    }
   ],
   "source": [
    "book_format = []\n",
    "\n",
    "for index, row in enumerate(df[\"description\"]):\n",
    "\tif \"fisico\" in row.split():\n",
    "\t\tbook_format.append(\"fisico\")\n",
    "\telif \"formatoebook\" in row.split():\n",
    "\t\tbook_format.append(\"ebook\")\n",
    "\telse:\n",
    "\t\tbook_format.append(\"\")\n",
    "\t\tprint(index, row)"
   ],
   "metadata": {
    "collapsed": false,
    "pycharm": {
     "name": "#%%\n"
    }
   }
  },
  {
   "cell_type": "code",
   "execution_count": 10,
   "outputs": [],
   "source": [
    "df.insert(13, \"book_format\", book_format)"
   ],
   "metadata": {
    "collapsed": false,
    "pycharm": {
     "name": "#%%\n"
    }
   }
  },
  {
   "cell_type": "code",
   "execution_count": 11,
   "outputs": [],
   "source": [
    "book_category = []\n",
    "\n",
    "for index, row in enumerate(df[\"description\"]):\n",
    "\tsplited_row = row.split()\n",
    "\ttry:\n",
    "\t\titem = splited_row[splited_row.index(\"categoria\") + 1]\n",
    "\n",
    "\t\tif \",\" in item:\n",
    "\t\t\titem += \" \" + splited_row[splited_row.index(\"categoria\") + 2]\n",
    "\n",
    "\t\t\tif \",\" in splited_row[splited_row.index(\"categoria\") + 2]:\n",
    "\t\t\t\titem += \" \" + splited_row[splited_row.index(\"categoria\") + 3]\n",
    "\n",
    "\t\tbook_category.append(item)\n",
    "\n",
    "\texcept:\n",
    "\t\tbook_category.append(\"\")\n",
    "\n",
    "df.insert(14, \"book_category\", book_category)"
   ],
   "metadata": {
    "collapsed": false,
    "pycharm": {
     "name": "#%%\n"
    }
   }
  },
  {
   "cell_type": "code",
   "execution_count": 12,
   "outputs": [
    {
     "data": {
      "text/plain": "array(['juvenil', 'autoayuda', 'no', 'literatura', '', 'bienestar',\n       'novela', 'ficcion', 'manualidades', 'finanzas', 'historia',\n       'psicologia', 'infantil', 'actualidad', 'investigacion', 'ensayo',\n       'liderazgo', 'escolar', 'ciencia', 'espiritualidad', 'astrologia',\n       'feminismo', 'erotica', 'libros', 'plan', 'texto', 'politica',\n       'biografias', 'biologia', 'comic', 'narrativa', 'filosofia',\n       'fantasia', 'negocios', 'esoterismo', 'ciencias', 'diccionarios',\n       'economia', 'comics', 'cocina', 'poesia', 'juegos', 'infantiles',\n       'humor', 'pedagogia', 'manga', 'educacion', 'ilustracion',\n       'mandalas', 'gastronomia', 'agenda', 'musica', 'divulgacion',\n       'cuento', 'clasicos', 'referencias', 'ecologia', 'agricultura',\n       'adolescentes', 'textos', 'religion', 'antropologia', 'deportes',\n       'romantica', 'fisica', 'medicina', 'ilustrado, satira',\n       'sociologia', 'cristianismo', 'ocio', 'maternidad', 'album',\n       'artesania', 'ilustrados', 'arquitectura, arte', 'teatro',\n       'novelas', 'ilustrado', 'biografia', 'administracion',\n       'historia, textos', 'salud, nutricion, cocina', 'arte', 'empresa',\n       '301', 'autoayuda, resilencia', 'aprender', 'geologia',\n       'periodismo', 'deporte', 'poemas', 'artes', 'humanidades', 'libro',\n       'autoayuda, filosofia', 'futbol', 'salud, cocina',\n       'historia, animales', 'cine', 'peruana', 'nutricion',\n       'computacion', 'narrativa, novela', 'marketing', 'construccion',\n       'europea', '5-8', 'derecho', 'hipica', 'yoga', 'salud', 'cuentos',\n       'recursos', 'masoneria', 'creatividad', 'escritos', 'clasica',\n       'atlas', '0-4', 'cuidado', 'crianza', 'latinoamericana',\n       'biblioteconomia', 'ensayos', 'manuales', 'television', 'espanol',\n       'ebooks', 'arquitectura', 'valores', 'ingles', 'diseno',\n       'accesorios', 'quimica', 'accion', 'matematicas', 'aplicada',\n       'literatura, poesia', 'complementos', 'fotografia', 'historica',\n       'superacion', 'entretenimientos', 'documentales', 'sexualidad',\n       'agropecuarios', 'ganaderia', 'sin', 'turismo', 'ciclo',\n       'naturapatia', 'viajes', 'critica', 'vida', 'informatica',\n       'mitologia', 'litearatura', 'ventas', 'artesania, hobbies',\n       'miscelaneos', 'complementarios', 'jardineria', 'computadoras',\n       'cronicas', 'contemporanea', 'ingenieria', 'cultura',\n       'puericultura', 'lengua', 'bellas', 'frances', 'comidas',\n       'comunicacion', 'comics, comics', 'romance', 'linguistica',\n       'teologia', 'filologia', 'america', 'literatura, teatro',\n       'lenguaje', 'temas', 'agendas', 'catalogos', 'cronica',\n       'medicinas', 'miselaneos', 'otros', 'liteartura', 'cienias',\n       'refranes, proverbios, dichos,', 'embarazo', 'salud, bienestar',\n       'horoscopo', 'alimentos', 'dibujo', 'testimonios', 'autobiografia',\n       'entretenimiento', 'metafisica', '9-12', 'ninos', 'pasatiempos',\n       'botanica', 'crecimiento', 'arqueologia, historia, ilustrado',\n       'zoologia', 'tarot', 'neurociencia', 'astronomia', 'testimonio',\n       'historieta', 'vitivinicultura', 'ley', 'guias', 'perros',\n       'terapias', 'cinematografia', 'estrategia', 'memorias',\n       'historia, biografias', 'etica', 'lectura',\n       'autoayuda, comunicacion', 'historia, imperio', 'espanola',\n       'religiones', 'videojuegos', 'autoayuda, salud',\n       'salud, cocina, cafe', 'salud, cocina, chocolate', 'entre',\n       'historia, filosofia', 'coaching', 'salud, alimentacion', 'a',\n       'historia, siglo', 'cocina, medio', 'estudios', 'nutricion, guia',\n       'biografia, imperio', 'cuentos, ciencia', 'managment, liderazgo',\n       'ficcion:', 'geografia', 'salud, mujer, fitoterapia',\n       'teatro, tragedia, clasicos', 'managment, innovacion', 'redes',\n       'narrativa, fabula', 'mandalas, meditacion', 'cuadernos',\n       'comedia, clasicos', 'antologia, relatos, fantasia',\n       'arte, biografia', 'terror', 'dinosaurios', 'derechos',\n       'biografia, historia', 'debate', 'ilustrado, relatos', 'suspense',\n       'autoayuda, deporte, salud', 'pasatiempo, curso',\n       'historia, clasicos', 'juegos, ocio', 'ilustrado, fabula, poesia',\n       'memorias, cronica', 'novela, emociones', 'docencia',\n       'relatos, distopia', 'poesia, clasicos', 'ensayo, futbol',\n       'patrimonio', 'poesias', 'salud, psicologia, mujer',\n       'artbook, fantasia, ilustracion', 'ilustracion, mapuche, novela',\n       'autoayuda, coaching, psicologia,',\n       'manualidades, arte, creatividad', 'relato',\n       'clasicos, grecia, narrativa,', 'fotografia, guia',\n       'autoayuda, psicologia, ajedrez', 'hogar, bienestar, salud,',\n       'relatos', 'autoayuda, hogar, salud', 'infertilidad', 'aves',\n       'humor, comic', 'diccionario', 'gastronomia, cocina', 'joyeria',\n       'internacional', 'entrevistas', 'culinaria',\n       'autoayuda, desarrollo', 'psicologia, autoayuda', 'esoterico',\n       'pensamiento', 'dieta', 'cocina, recetas', 'cerveza',\n       'autoayuda, mascotas', 'fauna', 'adopcion', 'matematica',\n       'infatil', 'best', 'thriller', 'salud, nutricion, estilo',\n       'parvularia', 'desarrollo', 'bolsillo', 'fantastica',\n       'cronica, actualidad'], dtype=object)"
     },
     "execution_count": 12,
     "metadata": {},
     "output_type": "execute_result"
    }
   ],
   "source": [
    "df[\"book_category\"].unique()"
   ],
   "metadata": {
    "collapsed": false,
    "pycharm": {
     "name": "#%%\n"
    }
   }
  },
  {
   "cell_type": "code",
   "execution_count": 13,
   "outputs": [],
   "source": [
    "for index, row in enumerate(df[\"book_category\"]):\n",
    "\tif row == \"no\":\n",
    "\t\tdf.at[index, \"book_category\"] = \"no-ficcion\""
   ],
   "metadata": {
    "collapsed": false,
    "pycharm": {
     "name": "#%%\n"
    }
   }
  },
  {
   "cell_type": "code",
   "execution_count": 14,
   "outputs": [],
   "source": [
    "book_year = []\n",
    "\n",
    "for index, row in enumerate(df[\"description\"]):\n",
    "\tsplited_row = row.split()\n",
    "\n",
    "\ttry:\n",
    "\t\tbook_year.append(splited_row[splited_row.index(\"ano\") + 1])\n",
    "\texcept:\n",
    "\t\tbook_year.append(\"\")\n",
    "\n",
    "df.insert(15, \"book_year\", book_year)"
   ],
   "metadata": {
    "collapsed": false,
    "pycharm": {
     "name": "#%%\n"
    }
   }
  },
  {
   "cell_type": "code",
   "execution_count": 15,
   "outputs": [],
   "source": [
    "for index, row in enumerate(df[\"description\"]):\n",
    "\tif \"spa\" not in row and \"castel\" not in row:\n",
    "\t\tdf.drop(index=index, inplace=True)"
   ],
   "metadata": {
    "collapsed": false,
    "pycharm": {
     "name": "#%%\n"
    }
   }
  },
  {
   "cell_type": "code",
   "execution_count": 16,
   "outputs": [],
   "source": [
    "df.reset_index(drop=True, inplace=True)"
   ],
   "metadata": {
    "collapsed": false,
    "pycharm": {
     "name": "#%%\n"
    }
   }
  },
  {
   "cell_type": "code",
   "execution_count": 17,
   "outputs": [],
   "source": [
    "book_pages = []\n",
    "\n",
    "for index, row in enumerate(df[\"description\"]):\n",
    "\tsplited_row = row.split()\n",
    "\n",
    "\ttry:\n",
    "\t\tbook_pages.append(splited_row[splited_row.index(\"paginas\") + 1])\n",
    "\texcept:\n",
    "\t\tbook_pages.append(\"\")\n",
    "\n",
    "df.insert(16, \"book_pages\", book_pages)"
   ],
   "metadata": {
    "collapsed": false,
    "pycharm": {
     "name": "#%%\n"
    }
   }
  },
  {
   "cell_type": "markdown",
   "source": [
    "## Name"
   ],
   "metadata": {
    "collapsed": false
   }
  },
  {
   "cell_type": "markdown",
   "source": [
    "### General Common Words"
   ],
   "metadata": {
    "collapsed": false
   }
  },
  {
   "cell_type": "code",
   "execution_count": 18,
   "outputs": [],
   "source": [
    "import spacy\n",
    "from web_app.get_stop_words import spanish_stop_words"
   ],
   "metadata": {
    "collapsed": false,
    "pycharm": {
     "name": "#%%\n"
    }
   }
  },
  {
   "cell_type": "code",
   "execution_count": 19,
   "outputs": [],
   "source": [
    "nlp = spacy.load(\"es_core_news_sm\")\n",
    "\n",
    "def clean_string(string):\n",
    "\tfor character in string:\n",
    "\t\tif character not in \"abcdefghijklmnopqrstuvwxyz \":\n",
    "\t\t\tstring = string.replace(character, \"\")\n",
    "\n",
    "\tdocument = nlp(string)\n",
    "\n",
    "\treturn \" \".join([word.lemma_ for word in document if word.lemma_ not in spanish_stop_words])"
   ],
   "metadata": {
    "collapsed": false,
    "pycharm": {
     "name": "#%%\n"
    }
   }
  },
  {
   "cell_type": "code",
   "execution_count": 20,
   "outputs": [],
   "source": [
    "df[\"name_cleaned\"] = df[\"name\"].apply(lambda x: clean_string(x))"
   ],
   "metadata": {
    "collapsed": false,
    "pycharm": {
     "name": "#%%\n"
    }
   }
  },
  {
   "cell_type": "code",
   "execution_count": 21,
   "outputs": [],
   "source": [
    "all_words = [word for row in df[\"name_cleaned\"] for word in row.split()]"
   ],
   "metadata": {
    "collapsed": false,
    "pycharm": {
     "name": "#%%\n"
    }
   }
  },
  {
   "cell_type": "code",
   "execution_count": 22,
   "outputs": [],
   "source": [
    "from collections import Counter\n",
    "import matplotlib.pyplot as plt\n",
    "import seaborn as sns"
   ],
   "metadata": {
    "collapsed": false,
    "pycharm": {
     "name": "#%%\n"
    }
   }
  },
  {
   "cell_type": "code",
   "execution_count": 23,
   "outputs": [],
   "source": [
    "counts = Counter(all_words)\n",
    "counts.most_common()\n",
    "\n",
    "most_common_words = [word[0] for word in counts.most_common()[0:15]]\n",
    "most_common_values = [word[1] for word in counts.most_common()[0:15]]"
   ],
   "metadata": {
    "collapsed": false,
    "pycharm": {
     "name": "#%%\n"
    }
   }
  },
  {
   "cell_type": "code",
   "execution_count": 24,
   "outputs": [
    {
     "data": {
      "text/plain": "<Figure size 720x720 with 1 Axes>",
      "image/png": "[encoded data removed]"
     },
     "metadata": {
      "needs_background": "light"
     },
     "output_type": "display_data"
    }
   ],
   "source": [
    "fig = plt.subplots(figsize=(10, 10))\n",
    "sns.barplot(y=most_common_words, x=most_common_values, color=\"#4C6EB3\")\n",
    "plt.title(\"15 Palabras más utilizadas en el nombre\", fontsize=15)\n",
    "plt.xlabel(\"Cantidad\", fontsize=12)\n",
    "plt.ylabel(\"Palabra\", fontsize=12)\n",
    "plt.savefig(\"plots/most_common_words_in_names.png\", bbox_inches=\"tight\", facecolor=\"#e3e3e3\",\n",
    "\t\t\tpad_inches=0.3, transparent=False)\n",
    "plt.show()"
   ],
   "metadata": {
    "collapsed": false,
    "pycharm": {
     "name": "#%%\n"
    }
   }
  },
  {
   "cell_type": "markdown",
   "source": [
    "### Common Words on top 500 books"
   ],
   "metadata": {
    "collapsed": false
   }
  },
  {
   "cell_type": "code",
   "execution_count": 25,
   "outputs": [],
   "source": [
    "import re"
   ],
   "metadata": {
    "collapsed": false,
    "pycharm": {
     "name": "#%%\n"
    }
   }
  },
  {
   "cell_type": "code",
   "execution_count": 26,
   "outputs": [],
   "source": [
    "rating = []\n",
    "raters = []\n",
    "\n",
    "for index in range(df.shape[0]):\n",
    "\tstar5 = int(re.search(r\"\\((.*?)\\)\", df[\"five_stars\"].iloc[index]).group(1))\n",
    "\tstar4 = int(re.search(r\"\\((.*?)\\)\", df[\"four_stars\"].iloc[index]).group(1))\n",
    "\tstar3 = int(re.search(r\"\\((.*?)\\)\", df[\"three_stars\"].iloc[index]).group(1))\n",
    "\tstar2 = int(re.search(r\"\\((.*?)\\)\", df[\"two_stars\"].iloc[index]).group(1))\n",
    "\tstar1 = int(re.search(r\"\\((.*?)\\)\", df[\"one_star\"].iloc[index]).group(1))\n",
    "\n",
    "\tnumerator = 5 * star5 + 4 * star4 + 3 * star3 + 2 * star2 + star1\n",
    "\tdenominator = star5 + star4 + star3 + star2 + star1\n",
    "\n",
    "\tif denominator == 0:\n",
    "\t\trating.append(0)\n",
    "\telse:\n",
    "\t\trating.append(numerator / denominator)\n",
    "\n",
    "\traters.append(denominator)\n",
    "\n",
    "df.insert(18, \"rating\", rating)\n",
    "df.insert(19, \"raters\", raters)"
   ],
   "metadata": {
    "collapsed": false,
    "pycharm": {
     "name": "#%%\n"
    }
   }
  },
  {
   "cell_type": "code",
   "execution_count": 27,
   "outputs": [],
   "source": [
    "mean_rating = 0\n",
    "for row in df[\"rating\"]:\n",
    "\tmean_rating += row\n",
    "\n",
    "mean_rating = mean_rating / df.shape[0]\n",
    "\n",
    "max_raters = max(df[\"raters\"])\n",
    "\n",
    "def bayesian_rating(rating, raters):\n",
    "\treturn rating * (raters / max_raters) + (1 - (raters / max_raters)) * mean_rating"
   ],
   "metadata": {
    "collapsed": false,
    "pycharm": {
     "name": "#%%\n"
    }
   }
  },
  {
   "cell_type": "code",
   "execution_count": 28,
   "outputs": [],
   "source": [
    "bayesian_ratings = [\n",
    "\tbayesian_rating(df[\"rating\"].iloc[i], df[\"raters\"].iloc[i]) for i in range(df.shape[0])\n",
    "]\n",
    "\n",
    "df.insert(20, \"bayesian_rating\", bayesian_ratings)"
   ],
   "metadata": {
    "collapsed": false,
    "pycharm": {
     "name": "#%%\n"
    }
   }
  },
  {
   "cell_type": "code",
   "execution_count": 29,
   "outputs": [
    {
     "data": {
      "text/plain": "name                                             nosotros en la luna\nauthor                                                  alice kellen\neditorial                                                    planeta\nprice                                                          15510\nreview             tras el exito de deja que ocurra vuelve alice ...\ndescription        formatolibro fisico autor alice kellen editori...\nfive_stars                                                 91% (204)\nfour_stars                                                   7% (16)\nthree_stars                                                   0% (0)\ntwo_stars                                                     1% (2)\none_star                                                      0% (1)\nlink               https://www.buscalibre.cl/libro-nosotros-en-la...\nwebsite                                                            1\nbook_format                                                   fisico\nbook_category                                                       \nbook_year                                                       2021\nbook_pages                                                       480\nname_cleaned                                                    luna\nrating                                                      4.883408\nraters                                                           223\nbayesian_rating                                             3.392972\nName: 10, dtype: object"
     },
     "execution_count": 29,
     "metadata": {},
     "output_type": "execute_result"
    }
   ],
   "source": [
    "df.iloc[10]"
   ],
   "metadata": {
    "collapsed": false,
    "pycharm": {
     "name": "#%%\n"
    }
   }
  },
  {
   "cell_type": "code",
   "execution_count": 30,
   "outputs": [],
   "source": [
    "best_products_words = [\n",
    "\tword for row in df.sort_values(by=\"bayesian_rating\", ascending=False)[\"name_cleaned\"][0:500]\n",
    "\tfor word in row.split()\n",
    "]"
   ],
   "metadata": {
    "collapsed": false,
    "pycharm": {
     "name": "#%%\n"
    }
   }
  },
  {
   "cell_type": "code",
   "execution_count": 31,
   "outputs": [],
   "source": [
    "counts = Counter(best_products_words)\n",
    "counts.most_common()\n",
    "\n",
    "most_common_words = [word[0] for word in counts.most_common()[0:15]]\n",
    "most_common_values = [word[1] for word in counts.most_common()[0:15]]"
   ],
   "metadata": {
    "collapsed": false,
    "pycharm": {
     "name": "#%%\n"
    }
   }
  },
  {
   "cell_type": "code",
   "execution_count": 32,
   "outputs": [
    {
     "data": {
      "text/plain": "<Figure size 720x720 with 1 Axes>",
      "image/png": "[encoded data removed]"
     },
     "metadata": {
      "needs_background": "light"
     },
     "output_type": "display_data"
    }
   ],
   "source": [
    "fig = plt.subplots(figsize=(10, 10))\n",
    "sns.barplot(y=most_common_words, x=most_common_values, color=\"#4C6EB3\")\n",
    "plt.title(\"15 Palabras más utilizadas en el nombre de los 500 libros con mejor ranking\",\n",
    "\t\t  fontsize=15)\n",
    "plt.xlabel(\"Cantidad\", fontsize=12)\n",
    "plt.ylabel(\"Palabra\", fontsize=12)\n",
    "plt.savefig(\"plots/most_common_words_in_names_best.png\", bbox_inches=\"tight\", facecolor=\"#e3e3e3\",\n",
    "\t\t\tpad_inches=0.3, transparent=False)\n",
    "plt.show()"
   ],
   "metadata": {
    "collapsed": false,
    "pycharm": {
     "name": "#%%\n"
    }
   }
  },
  {
   "cell_type": "markdown",
   "source": [
    "### Common words on 500 most expensive books"
   ],
   "metadata": {
    "collapsed": false
   }
  },
  {
   "cell_type": "code",
   "execution_count": 33,
   "outputs": [],
   "source": [
    "expensives_common_words = [\n",
    "\tword for row in df.sort_values(by=\"price\", ascending=False)[\"name_cleaned\"][0:500]\n",
    "\tfor word in row.split()\n",
    "]"
   ],
   "metadata": {
    "collapsed": false,
    "pycharm": {
     "name": "#%%\n"
    }
   }
  },
  {
   "cell_type": "code",
   "execution_count": 34,
   "outputs": [
    {
     "data": {
      "text/plain": "<Figure size 720x720 with 1 Axes>",
      "image/png": "[encoded data removed]"
     },
     "metadata": {
      "needs_background": "light"
     },
     "output_type": "display_data"
    }
   ],
   "source": [
    "counts = Counter(expensives_common_words)\n",
    "counts.most_common()\n",
    "\n",
    "most_common_words = [word[0] for word in counts.most_common()[0:15]]\n",
    "most_common_values = [word[1] for word in counts.most_common()[0:15]]\n",
    "\n",
    "fig = plt.subplots(figsize=(10, 10))\n",
    "sns.barplot(y=most_common_words, x=most_common_values, color=\"#4C6EB3\")\n",
    "plt.title(\"15 Palabras más utilizadas en el nombre de los 500 libros más caros\",\n",
    "\t\t  fontsize=15)\n",
    "plt.xlabel(\"Cantidad\", fontsize=12)\n",
    "plt.ylabel(\"Palabra\", fontsize=12)\n",
    "plt.savefig(\"plots/most_common_words_in_names_expensives.png\", bbox_inches=\"tight\",\n",
    "\t\t\tfacecolor=\"#e3e3e3\", pad_inches=0.3, transparent=False)\n",
    "plt.show()"
   ],
   "metadata": {
    "collapsed": false,
    "pycharm": {
     "name": "#%%\n"
    }
   }
  },
  {
   "cell_type": "markdown",
   "source": [
    "## Author"
   ],
   "metadata": {
    "collapsed": false
   }
  },
  {
   "cell_type": "code",
   "execution_count": 35,
   "outputs": [],
   "source": [
    "female_names = pd.read_csv(\"aux_names/females.csv\")[\"nombre\"]\n",
    "male_names = pd.read_csv(\"aux_names/males.csv\")[\"nombre\"]\n",
    "\n",
    "female_names.dropna(inplace=True)\n",
    "male_names.dropna(inplace=True)\n",
    "\n",
    "all_female_names = [name.lower().split()[0] for name in female_names]\n",
    "all_male_names = [name.lower().split()[0] for name in male_names]\n",
    "\n",
    "repeated_males = [\"julia\", \"angeles\", \"dominique\", \"maria\", \"andrea\", \"karen\",\n",
    "\t\t\t\t  \"rosario\", \"iris\", \"loreto\", \"consuelo\", \"carol\", \"karin\", \"vivian\", \"denis\",\n",
    "\t\t\t\t  \"ariel\", \"pilar\", \"kim\", \"lilian\", \"surya\", \"leonor\", \"montserrat\", \"guadalupe\",\n",
    "\t\t\t\t  \"ashley\", \"camille\", \"mercedes\", \"trinidad\", \"harriet\", \"paz\", \"jane\", \"simone\"]\n",
    "\n",
    "repeated_females = [\"robin\", \"joan\", \"juan\", \"nino\", \"chris\", \"alex\", \"erin\", \"gabriele\",\n",
    "\t\t\t\t\t\"willy\", \"jesus\", \"hermogenes\", \"noah\"]\n",
    "\n",
    "for name in repeated_females:\n",
    "\tall_female_names.remove(name)\n",
    "\n",
    "for name in repeated_males:\n",
    "\tall_male_names.remove(name)"
   ],
   "metadata": {
    "collapsed": false,
    "pycharm": {
     "name": "#%%\n"
    }
   }
  },
  {
   "cell_type": "code",
   "execution_count": 36,
   "outputs": [],
   "source": [
    "female_author = []\n",
    "male_author = []\n",
    "\n",
    "for row in df[\"author\"]:\n",
    "\tif row.split()[0] in all_female_names:\n",
    "\t\tfemale_author.append(1)\n",
    "\telse:\n",
    "\t\tfemale_author.append(0)\n",
    "\n",
    "for row in df[\"author\"]:\n",
    "\tif row.split()[0] in all_male_names:\n",
    "\t\tmale_author.append(1)\n",
    "\telse:\n",
    "\t\tmale_author.append(0)\n",
    "\n",
    "df.insert(21, \"female_author\", female_author)\n",
    "df.insert(22, \"male_author\", male_author)"
   ],
   "metadata": {
    "collapsed": false,
    "pycharm": {
     "name": "#%%\n"
    }
   }
  },
  {
   "cell_type": "code",
   "execution_count": 37,
   "outputs": [],
   "source": [
    "females_data = pd.concat([\n",
    "\tdf[(df[\"female_author\"] == 1) & (df[\"male_author\"] == 0)][\"bayesian_rating\"].copy(),\n",
    "\tpd.Series(data=\"female\", index=df[(df[\"female_author\"] == 1) & (df[\"male_author\"] == 0)].index)\n",
    "], axis=1)"
   ],
   "metadata": {
    "collapsed": false,
    "pycharm": {
     "name": "#%%\n"
    }
   }
  },
  {
   "cell_type": "code",
   "execution_count": 53,
   "outputs": [],
   "source": [
    "females_data = pd.concat([\n",
    "\tdf[(df[\"female_author\"] == 1) & (df[\"male_author\"] == 0)][\"bayesian_rating\"].copy(),\n",
    "\tpd.Series(\n",
    "\t\tindex=df[(df[\"female_author\"] == 1) & (df[\"male_author\"] == 0)].index,\n",
    "\t\tdata=\"Mujeres\", name=\"género\"\n",
    "\t)\n",
    "], axis=1)\n",
    "females_data.reset_index(drop=True, inplace=True)\n",
    "\n",
    "males_data = pd.concat([\n",
    "\tdf[(df[\"female_author\"] == 0) & (df[\"male_author\"] == 1)][\"bayesian_rating\"].copy(),\n",
    "\tpd.Series(\n",
    "\t\tindex=df[(df[\"female_author\"] == 0) & (df[\"male_author\"] == 1)].index,\n",
    "\t\tdata=\"Hombres\", name=\"género\"\n",
    "\t)\n",
    "], axis=1)\n",
    "males_data.reset_index(drop=True, inplace=True)\n",
    "\n",
    "nas_data = pd.concat([\n",
    "\tdf[(df[\"female_author\"] == 0) & (df[\"male_author\"] == 0)][\"bayesian_rating\"].copy(),\n",
    "\tpd.Series(\n",
    "\t\tindex=df[(df[\"female_author\"] == 0) & (df[\"male_author\"] == 0)].index,\n",
    "\t\tdata=\"No Especificado\", name=\"género\"\n",
    "\t)\n",
    "], axis=1)\n",
    "nas_data.reset_index(drop=True, inplace=True)\n",
    "\n",
    "both_data = pd.concat([\n",
    "\tdf[(df[\"female_author\"] == 1) & (df[\"male_author\"] == 1)][\"bayesian_rating\"].copy(),\n",
    "\tpd.Series(\n",
    "\t\tindex=df[(df[\"female_author\"] == 1) & (df[\"male_author\"] == 1)].index,\n",
    "\t\tdata=\"No Especificado\", name=\"género\"\n",
    "\t)\n",
    "], axis=1)\n",
    "both_data.reset_index(drop=True, inplace=True)\n",
    "\n",
    "plot_data = pd.concat([females_data, males_data, nas_data, both_data])\n",
    "\n",
    "del females_data, males_data"
   ],
   "metadata": {
    "collapsed": false,
    "pycharm": {
     "name": "#%%\n"
    }
   }
  },
  {
   "cell_type": "code",
   "execution_count": 54,
   "outputs": [
    {
     "data": {
      "text/plain": "<Figure size 720x720 with 1 Axes>",
      "image/png": "[encoded data removed]"
     },
     "metadata": {
      "needs_background": "light"
     },
     "output_type": "display_data"
    }
   ],
   "source": [
    "fig = plt.subplots(figsize=(10, 10))\n",
    "sns.violinplot(y=\"bayesian_rating\", x=\"género\", data=plot_data)\n",
    "sns.stripplot(y=\"bayesian_rating\", x=\"género\", data=plot_data, alpha=0.6, jitter=0.15)\n",
    "plt.title(\"Calificaciones de Libros por Género\", fontsize=15)\n",
    "plt.xlabel(\"Género\", fontsize=12)\n",
    "plt.ylabel(\"Ranking Bayesiano\", fontsize=12)\n",
    "plt.savefig(\"plots/ranking_per_genre.png\", bbox_inches=\"tight\",\n",
    "\t\t\tfacecolor=\"#e3e3e3\", pad_inches=0.3, transparent=False)\n",
    "plt.show()"
   ],
   "metadata": {
    "collapsed": false,
    "pycharm": {
     "name": "#%%\n"
    }
   }
  },
  {
   "cell_type": "code",
   "execution_count": 55,
   "outputs": [],
   "source": [
    "females_data = pd.concat([\n",
    "\tdf[(df[\"female_author\"] == 1) & (df[\"male_author\"] == 0)][\"price\"].copy(),\n",
    "\tpd.Series(\n",
    "\t\tindex=df[(df[\"female_author\"] == 1) & (df[\"male_author\"] == 0)].index,\n",
    "\t\tdata=\"Mujeres\", name=\"género\"\n",
    "\t)\n",
    "], axis=1)\n",
    "females_data.reset_index(drop=True, inplace=True)\n",
    "\n",
    "males_data = pd.concat([\n",
    "\tdf[(df[\"female_author\"] == 0) & (df[\"male_author\"] == 1)][\"price\"].copy(),\n",
    "\tpd.Series(\n",
    "\t\tindex=df[(df[\"female_author\"] == 0) & (df[\"male_author\"] == 1)].index,\n",
    "\t\tdata=\"Hombres\", name=\"género\"\n",
    "\t)\n",
    "], axis=1)\n",
    "males_data.reset_index(drop=True, inplace=True)\n",
    "\n",
    "nas_data = pd.concat([\n",
    "\tdf[(df[\"female_author\"] == 0) & (df[\"male_author\"] == 0)][\"price\"].copy(),\n",
    "\tpd.Series(\n",
    "\t\tindex=df[(df[\"female_author\"] == 0) & (df[\"male_author\"] == 0)].index,\n",
    "\t\tdata=\"No Especificado\", name=\"género\"\n",
    "\t)\n",
    "], axis=1)\n",
    "nas_data.reset_index(drop=True, inplace=True)\n",
    "\n",
    "both_data = pd.concat([\n",
    "\tdf[(df[\"female_author\"] == 1) & (df[\"male_author\"] == 1)][\"price\"].copy(),\n",
    "\tpd.Series(\n",
    "\t\tindex=df[(df[\"female_author\"] == 1) & (df[\"male_author\"] == 1)].index,\n",
    "\t\tdata=\"No Especificado\", name=\"género\"\n",
    "\t)\n",
    "], axis=1)\n",
    "both_data.reset_index(drop=True, inplace=True)\n",
    "\n",
    "plot_data = pd.concat([females_data, males_data, nas_data, both_data])\n",
    "\n",
    "del females_data, males_data"
   ],
   "metadata": {
    "collapsed": false,
    "pycharm": {
     "name": "#%%\n"
    }
   }
  },
  {
   "cell_type": "code",
   "execution_count": 71,
   "outputs": [
    {
     "data": {
      "text/plain": "<Figure size 720x720 with 1 Axes>",
      "image/png": "[encoded data removed]"
     },
     "metadata": {
      "needs_background": "light"
     },
     "output_type": "display_data"
    }
   ],
   "source": [
    "fig = plt.subplots(figsize=(10, 10))\n",
    "sns.boxenplot(y=\"price\", x=\"género\", data=plot_data)\n",
    "# sns.stripplot(y=\"price\", x=\"género\", data=plot_data, alpha=0.1, jitter=0.3, color=\"black\")\n",
    "plt.title(\"Precio de Libros por Género (Escala Logarítmica)\", fontsize=15)\n",
    "plt.xlabel(\"Género\", fontsize=12)\n",
    "plt.ylabel(\"Precio (Pesos Chilenos)\", fontsize=12)\n",
    "plt.yscale(\"log\")\n",
    "plt.savefig(\"plots/price_per_genre.png\", bbox_inches=\"tight\",\n",
    "\t\t\tfacecolor=\"#e3e3e3\", pad_inches=0.3, transparent=False)\n",
    "plt.show()"
   ],
   "metadata": {
    "collapsed": false,
    "pycharm": {
     "name": "#%%\n"
    }
   }
  },
  {
   "cell_type": "code",
   "execution_count": 39,
   "outputs": [],
   "source": [],
   "metadata": {
    "collapsed": false,
    "pycharm": {
     "name": "#%%\n"
    }
   }
  },
  {
   "cell_type": "code",
   "execution_count": 39,
   "outputs": [],
   "source": [],
   "metadata": {
    "collapsed": false,
    "pycharm": {
     "name": "#%%\n"
    }
   }
  },
  {
   "cell_type": "code",
   "execution_count": 39,
   "outputs": [],
   "source": [],
   "metadata": {
    "collapsed": false,
    "pycharm": {
     "name": "#%%\n"
    }
   }
  },
  {
   "cell_type": "code",
   "execution_count": 39,
   "outputs": [],
   "source": [],
   "metadata": {
    "collapsed": false,
    "pycharm": {
     "name": "#%%\n"
    }
   }
  },
  {
   "cell_type": "code",
   "execution_count": null,
   "outputs": [],
   "source": [],
   "metadata": {
    "collapsed": false,
    "pycharm": {
     "name": "#%%\n"
    }
   }
  }
 ],
 "metadata": {
  "kernelspec": {
   "display_name": "Python 3",
   "language": "python",
   "name": "python3"
  },
  "language_info": {
   "codemirror_mode": {
    "name": "ipython",
    "version": 2
   },
   "file_extension": ".py",
   "mimetype": "text/x-python",
   "name": "python",
   "nbconvert_exporter": "python",
   "pygments_lexer": "ipython2",
   "version": "2.7.6"
  }
 },
 "nbformat": 4,
 "nbformat_minor": 0
}